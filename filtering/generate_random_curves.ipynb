{
 "cells": [
  {
   "cell_type": "code",
   "execution_count": null,
   "metadata": {},
   "outputs": [],
   "source": [
    "import json\n",
    "import numpy as np"
   ]
  },
  {
   "cell_type": "code",
   "execution_count": null,
   "metadata": {},
   "outputs": [],
   "source": [
    "def generate_curve(rng, min_size, max_size):\n",
    "    \"\"\"Generate a single curve.\"\"\"\n",
    "    size = rng.integers(min_size, max_size + 1)\n",
    "    points = np.cumsum(rng.uniform(low=-1, high=1, size=size))\n",
    "    return {\"x\": list(range(size)), \"y\": points.tolist()}\n",
    "\n",
    "\n",
    "def generate_curves(\n",
    "    min_size=5, max_size=25, num_curves=100, path=\"pdps.json\", seed=1234\n",
    "):\n",
    "    \"\"\"Generate multiple curves and write them to pdps.json.\"\"\"\n",
    "    rng = np.random.default_rng(seed)\n",
    "    data = [generate_curve(rng, min_size, max_size) for _ in range(num_curves)]\n",
    "    with open(path, \"w\", encoding=\"utf-8\") as fp:\n",
    "        json.dump(data, fp)\n",
    "    return data"
   ]
  },
  {
   "cell_type": "code",
   "execution_count": null,
   "metadata": {},
   "outputs": [],
   "source": [
    "curves = generate_curves()"
   ]
  },
  {
   "cell_type": "code",
   "execution_count": null,
   "metadata": {},
   "outputs": [],
   "source": [
    "curves[0]"
   ]
  },
  {
   "cell_type": "code",
   "execution_count": null,
   "metadata": {},
   "outputs": [],
   "source": []
  }
 ],
 "metadata": {
  "kernelspec": {
   "display_name": "pdpilot-eval",
   "language": "python",
   "name": "python3"
  },
  "language_info": {
   "codemirror_mode": {
    "name": "ipython",
    "version": 3
   },
   "file_extension": ".py",
   "mimetype": "text/x-python",
   "name": "python",
   "nbconvert_exporter": "python",
   "pygments_lexer": "ipython3",
   "version": "3.10.13"
  }
 },
 "nbformat": 4,
 "nbformat_minor": 2
}
