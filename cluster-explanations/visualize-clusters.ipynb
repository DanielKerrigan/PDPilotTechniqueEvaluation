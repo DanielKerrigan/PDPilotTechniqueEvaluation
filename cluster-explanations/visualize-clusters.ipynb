{
 "cells": [
  {
   "cell_type": "markdown",
   "metadata": {},
   "source": [
    "# Visualize Clusters\n"
   ]
  },
  {
   "cell_type": "markdown",
   "metadata": {},
   "source": [
    "## Set up\n"
   ]
  },
  {
   "cell_type": "code",
   "execution_count": 1,
   "metadata": {},
   "outputs": [],
   "source": [
    "from pathlib import Path\n",
    "import json\n",
    "\n",
    "import altair as alt\n",
    "import lightgbm as lgb\n",
    "import pandas as pd\n",
    "from pdpilot import PDPilotWidget\n",
    "\n",
    "from clustering import plot_vine_clusters"
   ]
  },
  {
   "cell_type": "code",
   "execution_count": null,
   "metadata": {},
   "outputs": [],
   "source": [
    "alt.data_transformers.enable(\"vegafusion\")"
   ]
  },
  {
   "cell_type": "code",
   "execution_count": 3,
   "metadata": {},
   "outputs": [],
   "source": [
    "output_dir = Path(\"results\")\n",
    "output_dir.mkdir(parents=True, exist_ok=True)"
   ]
  },
  {
   "cell_type": "code",
   "execution_count": 4,
   "metadata": {},
   "outputs": [],
   "source": [
    "# random seed\n",
    "seed = 1"
   ]
  },
  {
   "cell_type": "code",
   "execution_count": 5,
   "metadata": {},
   "outputs": [],
   "source": [
    "booster = lgb.Booster(model_file=(output_dir / \"model.txt\"))"
   ]
  },
  {
   "cell_type": "code",
   "execution_count": 6,
   "metadata": {},
   "outputs": [],
   "source": [
    "df = pd.read_csv(output_dir / \"data.csv\")"
   ]
  },
  {
   "cell_type": "code",
   "execution_count": 7,
   "metadata": {},
   "outputs": [],
   "source": [
    "df_X = df.drop(columns=[\"y\"])\n",
    "features = list(df_X.columns)\n",
    "X = df_X.to_numpy()\n",
    "y = df[\"y\"].to_numpy()"
   ]
  },
  {
   "cell_type": "markdown",
   "metadata": {},
   "source": [
    "## Visualize ICE plots\n",
    "\n",
    "Only one `PDPilotWidget` can be run in a notebook at a time. Switch between the two paths for `pd_data` to see the differences in the cluster descriptions for the x2 feature.\n"
   ]
  },
  {
   "cell_type": "code",
   "execution_count": null,
   "metadata": {},
   "outputs": [],
   "source": [
    "w = PDPilotWidget(\n",
    "    predict=booster.predict,\n",
    "    df=df_X,\n",
    "    labels=y,\n",
    "    pd_data=(output_dir / \"pdpilot_max_depth_1.json\").as_posix(),\n",
    "    # pd_data=(output_dir / \"pdpilot_max_depth_3.json\").as_posix(),\n",
    "    height=650,\n",
    "    seed=seed,\n",
    ")\n",
    "\n",
    "w"
   ]
  },
  {
   "cell_type": "markdown",
   "metadata": {},
   "source": [
    "VINE is not implemented as a widget for Jupyter notebooks, so we use Altair to visualize the clustered ICE plots in a style similar to PDPilot.\n"
   ]
  },
  {
   "cell_type": "code",
   "execution_count": 9,
   "metadata": {},
   "outputs": [],
   "source": [
    "def read_json(file_path):\n",
    "    return json.loads(Path(file_path).read_bytes())"
   ]
  },
  {
   "cell_type": "code",
   "execution_count": 10,
   "metadata": {},
   "outputs": [],
   "source": [
    "plots = {}\n",
    "\n",
    "for num_clusters, prune_clusters in [(2, True), (5, True), (2, False), (5, False)]:\n",
    "    vine_data_path = (\n",
    "        output_dir / f\"vine_n_clusters_{num_clusters}_prune_{prune_clusters}.json\"\n",
    "    )\n",
    "\n",
    "    vine_data = read_json(vine_data_path)\n",
    "\n",
    "    title_params = {\"Initial number of clusters\": num_clusters}\n",
    "\n",
    "    plot = plot_vine_clusters(\n",
    "        vine_data, feature=\"x2\", title=f\"{num_clusters} initial clusters\"\n",
    "    )\n",
    "\n",
    "    vine_image_path = vine_data_path.with_suffix(\".png\")\n",
    "    plot.save(vine_image_path, ppi=200)\n",
    "\n",
    "    plots[(num_clusters, prune_clusters)] = plot"
   ]
  },
  {
   "cell_type": "markdown",
   "metadata": {},
   "source": [
    "### VINE - `prune_clusters=True`\n"
   ]
  },
  {
   "cell_type": "code",
   "execution_count": null,
   "metadata": {},
   "outputs": [],
   "source": [
    "plots[(2, True)]"
   ]
  },
  {
   "cell_type": "code",
   "execution_count": null,
   "metadata": {},
   "outputs": [],
   "source": [
    "plots[(5, True)]"
   ]
  },
  {
   "cell_type": "markdown",
   "metadata": {},
   "source": [
    "### VINE - `prune_clusters=False`\n"
   ]
  },
  {
   "cell_type": "code",
   "execution_count": null,
   "metadata": {},
   "outputs": [],
   "source": [
    "plots[(2, False)]"
   ]
  },
  {
   "cell_type": "code",
   "execution_count": null,
   "metadata": {},
   "outputs": [],
   "source": [
    "plots[(5, False)]"
   ]
  },
  {
   "cell_type": "code",
   "execution_count": null,
   "metadata": {},
   "outputs": [],
   "source": []
  }
 ],
 "metadata": {
  "kernelspec": {
   "display_name": "pdpilot-eval",
   "language": "python",
   "name": "python3"
  },
  "language_info": {
   "codemirror_mode": {
    "name": "ipython",
    "version": 3
   },
   "file_extension": ".py",
   "mimetype": "text/x-python",
   "name": "python",
   "nbconvert_exporter": "python",
   "pygments_lexer": "ipython3",
   "version": "3.10.14"
  }
 },
 "nbformat": 4,
 "nbformat_minor": 4
}
