{
 "cells": [
  {
   "cell_type": "code",
   "execution_count": null,
   "metadata": {},
   "outputs": [],
   "source": [
    "from pathlib import Path\n",
    "import json\n",
    "import altair as alt\n",
    "import pandas as pd\n",
    "import numpy as np"
   ]
  },
  {
   "cell_type": "code",
   "execution_count": null,
   "metadata": {},
   "outputs": [],
   "source": [
    "alt.data_transformers.enable(\"vegafusion\")"
   ]
  },
  {
   "cell_type": "code",
   "execution_count": null,
   "metadata": {},
   "outputs": [],
   "source": [
    "plots = json.loads(Path(\"scratch/synthetic-ice.json\").read_bytes())"
   ]
  },
  {
   "cell_type": "code",
   "execution_count": null,
   "metadata": {},
   "outputs": [],
   "source": [
    "len(plots)"
   ]
  },
  {
   "cell_type": "code",
   "execution_count": null,
   "metadata": {},
   "outputs": [],
   "source": [
    "plots[0].keys()"
   ]
  },
  {
   "cell_type": "code",
   "execution_count": null,
   "metadata": {},
   "outputs": [],
   "source": [
    "def plot_clusters(plot):\n",
    "    lines = np.array(plot[\"lines\"])\n",
    "    labels = np.array(plot[\"labels\"])\n",
    "\n",
    "    num_lines, resolution = lines.shape\n",
    "\n",
    "    df = pd.DataFrame(\n",
    "        {\n",
    "            \"id\": np.repeat(np.arange(num_lines), resolution),\n",
    "            \"step\": np.tile(np.arange(resolution), num_lines),\n",
    "            \"value\": lines.flatten(),\n",
    "            \"cluster\": np.repeat(labels, resolution),\n",
    "        }\n",
    "    )\n",
    "\n",
    "    faceted = (\n",
    "        alt.Chart(df)\n",
    "        .mark_line(opacity=0.1)\n",
    "        .encode(\n",
    "            x=\"step\",\n",
    "            y=\"value\",\n",
    "            detail=\"id\",\n",
    "            color=alt.Color(\"cluster:N\").legend(None),\n",
    "            column=\"cluster:N\",\n",
    "        )\n",
    "    )\n",
    "\n",
    "    base = (\n",
    "        alt.Chart(df)\n",
    "        .mark_line(opacity=0.1, stroke=\"black\")\n",
    "        .encode(x=\"step\", y=\"value\", detail=\"id\")\n",
    "    )\n",
    "\n",
    "    return base & faceted"
   ]
  },
  {
   "cell_type": "code",
   "execution_count": null,
   "metadata": {},
   "outputs": [],
   "source": [
    "plot_clusters(plots[0])"
   ]
  },
  {
   "cell_type": "code",
   "execution_count": null,
   "metadata": {},
   "outputs": [],
   "source": []
  }
 ],
 "metadata": {
  "kernelspec": {
   "display_name": "pdpilot-eval",
   "language": "python",
   "name": "python3"
  },
  "language_info": {
   "codemirror_mode": {
    "name": "ipython",
    "version": 3
   },
   "file_extension": ".py",
   "mimetype": "text/x-python",
   "name": "python",
   "nbconvert_exporter": "python",
   "pygments_lexer": "ipython3",
   "version": "3.10.14"
  }
 },
 "nbformat": 4,
 "nbformat_minor": 2
}
