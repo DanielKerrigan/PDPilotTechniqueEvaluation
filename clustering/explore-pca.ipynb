{
 "cells": [
  {
   "cell_type": "code",
   "execution_count": null,
   "metadata": {},
   "outputs": [],
   "source": [
    "import json\n",
    "from pathlib import Path\n",
    "\n",
    "import altair as alt\n",
    "import numpy as np\n",
    "import pandas as pd\n",
    "from ipywidgets import Button, FloatSlider, IntSlider, Output, VBox\n",
    "from sklearn.decomposition import PCA"
   ]
  },
  {
   "cell_type": "code",
   "execution_count": null,
   "metadata": {},
   "outputs": [],
   "source": [
    "alt.data_transformers.enable(\"vegafusion\")"
   ]
  },
  {
   "cell_type": "code",
   "execution_count": null,
   "metadata": {},
   "outputs": [],
   "source": [
    "data = np.array(json.loads(Path(\"results/real-ice.json\").read_bytes()))"
   ]
  },
  {
   "cell_type": "code",
   "execution_count": null,
   "metadata": {},
   "outputs": [],
   "source": [
    "data.shape"
   ]
  },
  {
   "cell_type": "code",
   "execution_count": null,
   "metadata": {},
   "outputs": [],
   "source": [
    "pca = PCA(n_components=8, svd_solver=\"full\", whiten=True)\n",
    "pca.fit(data)"
   ]
  },
  {
   "cell_type": "code",
   "execution_count": null,
   "metadata": {},
   "outputs": [],
   "source": [
    "reduced = pca.transform(data)\n",
    "df_reduced = pd.DataFrame(reduced)\n",
    "df_reduced.describe()"
   ]
  },
  {
   "cell_type": "code",
   "execution_count": null,
   "metadata": {},
   "outputs": [],
   "source": [
    "def get_clusters(\n",
    "    pca,\n",
    "    cluster_sizes,\n",
    "    between_deviation,\n",
    "    within_deviation,\n",
    "):\n",
    "    rng = np.random.default_rng()\n",
    "\n",
    "    start = rng.normal(loc=0, scale=1, size=pca.n_components_)\n",
    "\n",
    "    clusters = []\n",
    "\n",
    "    for cluster_size in cluster_sizes:\n",
    "        center = start + rng.normal(\n",
    "            loc=0, scale=between_deviation, size=pca.n_components_\n",
    "        )\n",
    "        cluster_lines = center + rng.normal(\n",
    "            loc=0, scale=within_deviation, size=(cluster_size, pca.n_components_)\n",
    "        )\n",
    "        clusters.append(pca.inverse_transform(cluster_lines))\n",
    "\n",
    "    return clusters\n",
    "\n",
    "\n",
    "def plot_clusters(clusters):\n",
    "    dfs = []\n",
    "\n",
    "    offset = 0\n",
    "\n",
    "    for i, cluster in enumerate(clusters):\n",
    "        num_lines, resolution = cluster.shape\n",
    "\n",
    "        df_cluster = pd.DataFrame(\n",
    "            {\n",
    "                \"id\": np.repeat(np.arange(num_lines) + offset, resolution),\n",
    "                \"step\": np.tile(np.arange(resolution), num_lines),\n",
    "                \"value\": cluster.flatten(),\n",
    "                \"cluster\": i,\n",
    "            }\n",
    "        )\n",
    "\n",
    "        dfs.append(df_cluster)\n",
    "\n",
    "        offset += num_lines\n",
    "\n",
    "    df = pd.concat(dfs)\n",
    "\n",
    "    faceted = (\n",
    "        alt.Chart(df)\n",
    "        .mark_line(opacity=0.1)\n",
    "        .encode(\n",
    "            x=\"step\",\n",
    "            y=\"value\",\n",
    "            detail=\"id\",\n",
    "            color=alt.Color(\"cluster:N\").legend(None),\n",
    "            column=\"cluster:N\",\n",
    "        )\n",
    "    )\n",
    "\n",
    "    base = (\n",
    "        alt.Chart(df)\n",
    "        .mark_line(opacity=0.1, stroke=\"black\")\n",
    "        .encode(x=\"step\", y=\"value\", detail=\"id\")\n",
    "    )\n",
    "\n",
    "    return base & faceted"
   ]
  },
  {
   "cell_type": "code",
   "execution_count": null,
   "metadata": {},
   "outputs": [],
   "source": [
    "def on_generate_click(_):\n",
    "    clusters = get_clusters(\n",
    "        pca,\n",
    "        cluster_sizes=[1200 // num_clusters_slider.value] * num_clusters_slider.value,\n",
    "        between_deviation=between_deviation_slider.value,\n",
    "        within_deviation=within_deviation_slider.value,\n",
    "    )\n",
    "\n",
    "    output.clear_output(wait=True)\n",
    "    with output:\n",
    "        display(plot_clusters(clusters))\n",
    "\n",
    "\n",
    "num_clusters_slider = IntSlider(min=2, max=5, step=1, description=\"Num clusters\")\n",
    "between_deviation_slider = FloatSlider(\n",
    "    min=0, max=1, value=0.7, step=0.05, description=\"Between\"\n",
    ")\n",
    "within_deviation_slider = FloatSlider(\n",
    "    min=0, max=1, value=0.2, step=0.05, description=\"Within\"\n",
    ")\n",
    "generate_button = Button(description=\"Generate\")\n",
    "generate_button.on_click(on_generate_click)\n",
    "\n",
    "inputs = VBox(\n",
    "    children=[\n",
    "        num_clusters_slider,\n",
    "        between_deviation_slider,\n",
    "        within_deviation_slider,\n",
    "        generate_button,\n",
    "    ]\n",
    ")\n",
    "\n",
    "output = Output()\n",
    "\n",
    "display(inputs, output)"
   ]
  },
  {
   "cell_type": "code",
   "execution_count": null,
   "metadata": {},
   "outputs": [],
   "source": []
  }
 ],
 "metadata": {
  "kernelspec": {
   "display_name": "pdpilot-eval",
   "language": "python",
   "name": "python3"
  },
  "language_info": {
   "codemirror_mode": {
    "name": "ipython",
    "version": 3
   },
   "file_extension": ".py",
   "mimetype": "text/x-python",
   "name": "python",
   "nbconvert_exporter": "python",
   "pygments_lexer": "ipython3",
   "version": "3.10.14"
  }
 },
 "nbformat": 4,
 "nbformat_minor": 2
}
