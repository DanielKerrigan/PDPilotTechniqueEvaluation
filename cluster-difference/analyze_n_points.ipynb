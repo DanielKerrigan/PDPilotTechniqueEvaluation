{
 "cells": [
  {
   "cell_type": "markdown",
   "metadata": {},
   "source": [
    "# Analyzing Cluster Difference\n"
   ]
  },
  {
   "cell_type": "markdown",
   "metadata": {},
   "source": [
    "## Set up\n"
   ]
  },
  {
   "cell_type": "code",
   "execution_count": null,
   "metadata": {},
   "outputs": [],
   "source": [
    "import utils\n",
    "from pathlib import Path\n",
    "import altair as alt\n",
    "import numpy as np"
   ]
  },
  {
   "cell_type": "code",
   "execution_count": null,
   "metadata": {},
   "outputs": [],
   "source": [
    "alt.data_transformers.enable(\"vegafusion\")"
   ]
  },
  {
   "cell_type": "code",
   "execution_count": null,
   "metadata": {},
   "outputs": [],
   "source": [
    "output_dir = Path(\"results\")\n",
    "output_dir.mkdir(parents=True, exist_ok=True)"
   ]
  },
  {
   "cell_type": "code",
   "execution_count": null,
   "metadata": {},
   "outputs": [],
   "source": [
    "min_n = 2\n",
    "max_n = 100"
   ]
  },
  {
   "cell_type": "code",
   "execution_count": null,
   "metadata": {},
   "outputs": [],
   "source": [
    "relative_n_points = 10\n",
    "example_n_points = 10"
   ]
  },
  {
   "cell_type": "markdown",
   "metadata": {},
   "source": [
    "## Linear\n"
   ]
  },
  {
   "cell_type": "code",
   "execution_count": null,
   "metadata": {},
   "outputs": [],
   "source": [
    "linear_cluster_fns = [lambda x: x * 1.5, lambda x: x * 0.5]"
   ]
  },
  {
   "cell_type": "code",
   "execution_count": null,
   "metadata": {},
   "outputs": [],
   "source": [
    "linear_ice_plot_10 = utils.plot_example(\n",
    "    x_values=np.linspace(0, 1, 10),\n",
    "    cluster_center_functions=linear_cluster_fns,\n",
    "    centerings=[\"none\"],\n",
    ")\n",
    "\n",
    "linear_ice_plot_10"
   ]
  },
  {
   "cell_type": "code",
   "execution_count": null,
   "metadata": {},
   "outputs": [],
   "source": [
    "linear_ice_plot_20 = utils.plot_example(\n",
    "    x_values=np.linspace(0, 1, 20),\n",
    "    cluster_center_functions=linear_cluster_fns,\n",
    "    centerings=[\"none\"],\n",
    ")\n",
    "\n",
    "linear_ice_plot_20"
   ]
  },
  {
   "cell_type": "code",
   "execution_count": null,
   "metadata": {},
   "outputs": [],
   "source": [
    "linear_ice_plot_20.save((output_dir / \"cd-linear-ice.png\").as_posix(), ppi=200)"
   ]
  },
  {
   "cell_type": "code",
   "execution_count": null,
   "metadata": {},
   "outputs": [],
   "source": [
    "linear_length_comparison = linear_ice_plot_10 & linear_ice_plot_20\n",
    "linear_length_comparison"
   ]
  },
  {
   "cell_type": "code",
   "execution_count": null,
   "metadata": {},
   "outputs": [],
   "source": [
    "linear_length_comparison.save(\n",
    "    (output_dir / \"cd-linear-comparison.png\").as_posix(), ppi=200\n",
    ")"
   ]
  },
  {
   "cell_type": "code",
   "execution_count": null,
   "metadata": {},
   "outputs": [],
   "source": [
    "utils.plot_example(\n",
    "    x_values=np.linspace(0, 1, 20),\n",
    "    cluster_center_functions=linear_cluster_fns,\n",
    "    centerings=[\"0\", \"mean\"],\n",
    ")"
   ]
  },
  {
   "cell_type": "code",
   "execution_count": null,
   "metadata": {},
   "outputs": [],
   "source": [
    "df_linear = utils.get_method_comparison_data(\n",
    "    methods=[\"PDPilot\", \"VINE\"],\n",
    "    min_n=min_n,\n",
    "    max_n=max_n,\n",
    "    min_x=0,\n",
    "    max_x=1,\n",
    "    cluster_center_functions=linear_cluster_fns,\n",
    "    relative_n=relative_n_points,\n",
    ")\n",
    "\n",
    "linear_trend_plot = utils.plot_relative_scores(df_linear, relative_n=relative_n_points)\n",
    "linear_trend_plot"
   ]
  },
  {
   "cell_type": "code",
   "execution_count": null,
   "metadata": {},
   "outputs": [],
   "source": [
    "linear_trend_plot.save((output_dir / \"cd-linear-trend.png\").as_posix(), ppi=200)"
   ]
  },
  {
   "cell_type": "code",
   "execution_count": null,
   "metadata": {},
   "outputs": [],
   "source": [
    "linear_plot = (linear_ice_plot_10 & linear_trend_plot).resolve_scale(\n",
    "    color=\"independent\"\n",
    ")\n",
    "linear_plot"
   ]
  },
  {
   "cell_type": "code",
   "execution_count": null,
   "metadata": {},
   "outputs": [],
   "source": [
    "linear_plot.save((output_dir / \"cd-linear.png\").as_posix(), ppi=200)"
   ]
  },
  {
   "cell_type": "markdown",
   "metadata": {},
   "source": [
    "## Sine and Cosine\n"
   ]
  },
  {
   "cell_type": "code",
   "execution_count": null,
   "metadata": {},
   "outputs": [],
   "source": [
    "sine_cluster_fns = [lambda x: np.sin(x), lambda x: np.cos(x)]"
   ]
  },
  {
   "cell_type": "code",
   "execution_count": null,
   "metadata": {},
   "outputs": [],
   "source": [
    "sine_ice_plot = utils.plot_example(\n",
    "    x_values=np.linspace(0, 2 * np.pi, example_n_points),\n",
    "    cluster_center_functions=sine_cluster_fns,\n",
    "    centerings=[\"none\"],\n",
    ")\n",
    "sine_ice_plot"
   ]
  },
  {
   "cell_type": "code",
   "execution_count": null,
   "metadata": {},
   "outputs": [],
   "source": [
    "sine_ice_plot.save((output_dir / \"cd-sine-ice.png\").as_posix(), ppi=200)"
   ]
  },
  {
   "cell_type": "code",
   "execution_count": null,
   "metadata": {},
   "outputs": [],
   "source": [
    "utils.plot_example(\n",
    "    x_values=np.linspace(0, 2 * np.pi, 20),\n",
    "    cluster_center_functions=sine_cluster_fns,\n",
    "    centerings=[\"0\", \"mean\"],\n",
    ")"
   ]
  },
  {
   "cell_type": "code",
   "execution_count": null,
   "metadata": {},
   "outputs": [],
   "source": [
    "df_sine = utils.get_method_comparison_data(\n",
    "    methods=[\"PDPilot\", \"VINE\"],\n",
    "    min_n=min_n,\n",
    "    max_n=max_n,\n",
    "    min_x=0,\n",
    "    max_x=2 * np.pi,\n",
    "    cluster_center_functions=sine_cluster_fns,\n",
    "    relative_n=relative_n_points,\n",
    ")\n",
    "\n",
    "sine_trend_plot = utils.plot_relative_scores(df_sine, relative_n=relative_n_points)\n",
    "sine_trend_plot"
   ]
  },
  {
   "cell_type": "code",
   "execution_count": null,
   "metadata": {},
   "outputs": [],
   "source": [
    "sine_trend_plot.save((output_dir / \"cd-sine-trend.png\").as_posix(), ppi=200)"
   ]
  },
  {
   "cell_type": "code",
   "execution_count": null,
   "metadata": {},
   "outputs": [],
   "source": [
    "sine_plot = (sine_ice_plot & sine_trend_plot).resolve_scale(color=\"independent\")\n",
    "sine_plot"
   ]
  },
  {
   "cell_type": "code",
   "execution_count": null,
   "metadata": {},
   "outputs": [],
   "source": [
    "sine_plot.save((output_dir / \"cd-sine.png\").as_posix(), ppi=200)"
   ]
  },
  {
   "cell_type": "markdown",
   "metadata": {},
   "source": [
    "## Squared and Cubed\n"
   ]
  },
  {
   "cell_type": "code",
   "execution_count": null,
   "metadata": {},
   "outputs": [],
   "source": [
    "cubed_cluster_fns = [lambda x: x**2, lambda x: x**3]"
   ]
  },
  {
   "cell_type": "code",
   "execution_count": null,
   "metadata": {},
   "outputs": [],
   "source": [
    "cubed_ice_plot = utils.plot_example(\n",
    "    x_values=np.linspace(-1, 1, example_n_points),\n",
    "    cluster_center_functions=cubed_cluster_fns,\n",
    "    centerings=[\"none\"],\n",
    ")\n",
    "\n",
    "cubed_ice_plot"
   ]
  },
  {
   "cell_type": "code",
   "execution_count": null,
   "metadata": {},
   "outputs": [],
   "source": [
    "cubed_ice_plot.save((output_dir / \"cd-cubed-ice.png\").as_posix(), ppi=200)"
   ]
  },
  {
   "cell_type": "code",
   "execution_count": null,
   "metadata": {},
   "outputs": [],
   "source": [
    "utils.plot_example(\n",
    "    x_values=np.linspace(-1, 1, 20),\n",
    "    cluster_center_functions=cubed_cluster_fns,\n",
    "    centerings=[\"0\", \"mean\"],\n",
    ")"
   ]
  },
  {
   "cell_type": "code",
   "execution_count": null,
   "metadata": {},
   "outputs": [],
   "source": [
    "df_cubed = utils.get_method_comparison_data(\n",
    "    methods=[\"PDPilot\", \"VINE\"],\n",
    "    min_n=min_n,\n",
    "    max_n=max_n,\n",
    "    min_x=-1,\n",
    "    max_x=1,\n",
    "    cluster_center_functions=cubed_cluster_fns,\n",
    "    relative_n=relative_n_points,\n",
    ")\n",
    "\n",
    "cubed_trend_plot = utils.plot_relative_scores(df_cubed, relative_n=relative_n_points)\n",
    "cubed_trend_plot"
   ]
  },
  {
   "cell_type": "code",
   "execution_count": null,
   "metadata": {},
   "outputs": [],
   "source": [
    "cubed_trend_plot.save((output_dir / \"cd-cubed-trend.png\").as_posix(), ppi=200)"
   ]
  },
  {
   "cell_type": "code",
   "execution_count": null,
   "metadata": {},
   "outputs": [],
   "source": [
    "cubed_plot = (cubed_ice_plot & cubed_trend_plot).resolve_scale(color=\"independent\")\n",
    "cubed_plot"
   ]
  },
  {
   "cell_type": "code",
   "execution_count": null,
   "metadata": {},
   "outputs": [],
   "source": [
    "cubed_plot.save((output_dir / \"cd-cubed.png\").as_posix(), ppi=200)"
   ]
  },
  {
   "cell_type": "code",
   "execution_count": null,
   "metadata": {},
   "outputs": [],
   "source": []
  }
 ],
 "metadata": {
  "kernelspec": {
   "display_name": "pdpilot-eval",
   "language": "python",
   "name": "python3"
  },
  "language_info": {
   "codemirror_mode": {
    "name": "ipython",
    "version": 3
   },
   "file_extension": ".py",
   "mimetype": "text/x-python",
   "name": "python",
   "nbconvert_exporter": "python",
   "pygments_lexer": "ipython3",
   "version": "3.10.14"
  }
 },
 "nbformat": 4,
 "nbformat_minor": 2
}
