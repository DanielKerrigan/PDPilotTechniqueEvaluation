{
 "cells": [
  {
   "cell_type": "code",
   "execution_count": null,
   "id": "ab54cf39",
   "metadata": {},
   "outputs": [],
   "source": [
    "import pandas as pd\n",
    "import numpy as np\n",
    "from sklearn.ensemble import RandomForestClassifier\n",
    "from pmlb import fetch_data\n",
    "\n",
    "from ice import calculate_ice"
   ]
  },
  {
   "cell_type": "code",
   "execution_count": null,
   "id": "d0ffe719",
   "metadata": {},
   "outputs": [],
   "source": [
    "df = fetch_data('churn')"
   ]
  },
  {
   "cell_type": "code",
   "execution_count": null,
   "id": "865c52e3",
   "metadata": {},
   "outputs": [],
   "source": [
    "df"
   ]
  },
  {
   "cell_type": "code",
   "execution_count": null,
   "id": "a47511e0",
   "metadata": {},
   "outputs": [],
   "source": [
    "df_X = df.drop(columns=[\n",
    "    'target', 'state', 'phone number',\n",
    "    'total day charge', 'total night charge',\n",
    "    'total eve charge'\n",
    "])\n",
    "y = df['target'].values"
   ]
  },
  {
   "cell_type": "code",
   "execution_count": null,
   "id": "a68b7cfe",
   "metadata": {},
   "outputs": [],
   "source": [
    "model = RandomForestClassifier(n_estimators=100, max_features='sqrt')\n",
    "model.fit(df_X, y)"
   ]
  },
  {
   "cell_type": "code",
   "execution_count": null,
   "id": "a131a9e1",
   "metadata": {},
   "outputs": [],
   "source": [
    "features = list(df_X.columns)"
   ]
  },
  {
   "cell_type": "code",
   "execution_count": null,
   "id": "549a0f94",
   "metadata": {},
   "outputs": [],
   "source": [
    "subset = df_X.sample(1000)\n",
    "labels = y[subset.index].tolist()"
   ]
  },
  {
   "cell_type": "code",
   "execution_count": null,
   "id": "c2cb8729",
   "metadata": {},
   "outputs": [],
   "source": [
    "def predict(X):\n",
    "    return model.predict_proba(X)[:,1]"
   ]
  },
  {
   "cell_type": "code",
   "execution_count": null,
   "id": "6414de44",
   "metadata": {},
   "outputs": [],
   "source": [
    "calculate_ice(\n",
    "    predict=predict,\n",
    "    model_name='random forest',\n",
    "    df=subset,\n",
    "    dataset_name='churn',\n",
    "    y_label='churn probability',\n",
    "    features=features,\n",
    "    resolution=20,\n",
    "    n_jobs=1,\n",
    "    output_path='churn-random-forest.json'\n",
    ")"
   ]
  },
  {
   "cell_type": "code",
   "execution_count": null,
   "id": "a10b5c84",
   "metadata": {},
   "outputs": [],
   "source": []
  }
 ],
 "metadata": {
  "kernelspec": {
   "display_name": "Python 3 (ipykernel)",
   "language": "python",
   "name": "python3"
  },
  "language_info": {
   "codemirror_mode": {
    "name": "ipython",
    "version": 3
   },
   "file_extension": ".py",
   "mimetype": "text/x-python",
   "name": "python",
   "nbconvert_exporter": "python",
   "pygments_lexer": "ipython3",
   "version": "3.11.3"
  }
 },
 "nbformat": 4,
 "nbformat_minor": 5
}
