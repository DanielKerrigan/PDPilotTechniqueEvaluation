{
 "cells": [
  {
   "cell_type": "code",
   "execution_count": null,
   "metadata": {},
   "outputs": [],
   "source": [
    "from pathlib import Path\n",
    "import numpy as np\n",
    "from pdpilot import PDPilotWidget\n",
    "from pmlb import fetch_data\n",
    "import lightgbm as lgb\n",
    "import shap"
   ]
  },
  {
   "cell_type": "code",
   "execution_count": null,
   "metadata": {},
   "outputs": [],
   "source": [
    "dataset_group = \"debug\"\n",
    "dataset = \"irish\""
   ]
  },
  {
   "cell_type": "code",
   "execution_count": null,
   "metadata": {},
   "outputs": [],
   "source": [
    "def get_dataset_and_model(dataset_group, dataset):\n",
    "    df_all = fetch_data(dataset, local_cache_dir=f\"./results/{dataset_group}/datasets\")\n",
    "    df_reduced = (\n",
    "        df_all if df_all.shape[0] <= 2000 else df_all.sample(2000, random_state=1)\n",
    "    )\n",
    "    df_X = df_reduced.drop(columns=[\"target\"])\n",
    "    features = list(df_X.columns)\n",
    "\n",
    "    # convert float columns that contain only integers to integers\n",
    "    for feature in features:\n",
    "        as_int = df_X[feature].astype(int)\n",
    "        if np.array_equal(df_X[feature], as_int):\n",
    "            df_X[feature] = as_int\n",
    "\n",
    "    y = df_reduced[\"target\"].to_numpy()\n",
    "\n",
    "    booster = lgb.Booster(model_file=f\"./results/{dataset_group}/models/{dataset}.txt\")\n",
    "    pd_data = Path(f\"./results/{dataset_group}/pdpilot/{dataset}.json\")\n",
    "\n",
    "    return df_X, y, features, booster, pd_data"
   ]
  },
  {
   "cell_type": "code",
   "execution_count": null,
   "metadata": {},
   "outputs": [],
   "source": [
    "df, y, features, booster, pd_data = get_dataset_and_model(dataset_group, dataset)"
   ]
  },
  {
   "cell_type": "code",
   "execution_count": null,
   "metadata": {},
   "outputs": [],
   "source": [
    "w = PDPilotWidget(\n",
    "    predict=booster.predict, df=df, labels=y, pd_data=pd_data, seed=56, height=650\n",
    ")\n",
    "\n",
    "w"
   ]
  },
  {
   "cell_type": "code",
   "execution_count": null,
   "metadata": {},
   "outputs": [],
   "source": [
    "explainer = shap.TreeExplainer(booster)\n",
    "shap_values = explainer(df)"
   ]
  },
  {
   "cell_type": "code",
   "execution_count": null,
   "metadata": {},
   "outputs": [],
   "source": [
    "shap.plots.bar(shap_values)"
   ]
  },
  {
   "cell_type": "code",
   "execution_count": null,
   "metadata": {},
   "outputs": [],
   "source": [
    "explainer.expected_value"
   ]
  },
  {
   "cell_type": "code",
   "execution_count": null,
   "metadata": {},
   "outputs": [],
   "source": [
    "np.abs(shap_values.values).mean(axis=0)"
   ]
  },
  {
   "cell_type": "code",
   "execution_count": null,
   "metadata": {},
   "outputs": [],
   "source": [
    "dict(zip(df.columns, np.abs(shap_values.values).mean(axis=0)))"
   ]
  },
  {
   "cell_type": "code",
   "execution_count": null,
   "metadata": {},
   "outputs": [],
   "source": []
  }
 ],
 "metadata": {
  "kernelspec": {
   "display_name": "pdpilot-eval",
   "language": "python",
   "name": "python3"
  },
  "language_info": {
   "codemirror_mode": {
    "name": "ipython",
    "version": 3
   },
   "file_extension": ".py",
   "mimetype": "text/x-python",
   "name": "python",
   "nbconvert_exporter": "python",
   "pygments_lexer": "ipython3",
   "version": "3.10.14"
  }
 },
 "nbformat": 4,
 "nbformat_minor": 2
}
